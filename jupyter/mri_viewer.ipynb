{
 "cells": [
  {
   "cell_type": "code",
   "execution_count": null,
   "id": "0007c4b4",
   "metadata": {},
   "outputs": [],
   "source": [
    "from mri_viewer.app.engine import MRIViewerApp\n",
    "\n",
    "app = MRIViewerApp()\n",
    "await app.ui.ready\n",
    "app.ui"
   ]
  }
 ],
 "metadata": {
  "kernelspec": {
   "display_name": ".venv",
   "language": "python",
   "name": "python3"
  },
  "language_info": {
   "codemirror_mode": {
    "name": "ipython",
    "version": 3
   },
   "file_extension": ".py",
   "mimetype": "text/x-python",
   "name": "python",
   "nbconvert_exporter": "python",
   "pygments_lexer": "ipython3",
   "version": "3.12.2"
  },
  "vscode": {
   "interpreter": {
    "hash": "077b396a86bc6b27a58ed1155668631492bc59fe85a729995524234d32fbc2c2"
   }
  }
 },
 "nbformat": 4,
 "nbformat_minor": 5
}
